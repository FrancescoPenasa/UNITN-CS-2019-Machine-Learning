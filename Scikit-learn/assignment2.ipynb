{
 "cells": [
  {
   "cell_type": "code",
   "execution_count": 1,
   "metadata": {},
   "outputs": [],
   "source": [
    "# assignment_2 \n",
    "# choose a dataset -> OCR"
   ]
  },
  {
   "cell_type": "code",
   "execution_count": 2,
   "metadata": {},
   "outputs": [],
   "source": [
    "%matplotlib inline\n",
    "import matplotlib.pyplot as plt\n",
    "import numpy as np\n",
    "import pandas as pd \n",
    "import sklearn"
   ]
  },
  {
   "cell_type": "code",
   "execution_count": 3,
   "metadata": {},
   "outputs": [],
   "source": [
    "# read train dataset and labels\n",
    "test_data = pd.read_csv('ocr/test-data.csv')\n",
    "test_target = pd.read_csv('ocr/test-targets.csv')\n",
    "train_data = pd.read_csv('ocr/train-data.csv')\n",
    "train_target = pd.read_csv('ocr/train-targets.csv')"
   ]
  },
  {
   "cell_type": "markdown",
   "metadata": {},
   "source": [
    "# SVC with cross validation"
   ]
  },
  {
   "cell_type": "code",
   "execution_count": 4,
   "metadata": {},
   "outputs": [],
   "source": [
    "# reshape data \n",
    "X, y = train_data, train_target\n",
    "X_train = X\n",
    "y_train = np.squeeze(np.asarray(y))"
   ]
  },
  {
   "cell_type": "code",
   "execution_count": 5,
   "metadata": {},
   "outputs": [],
   "source": [
    "from sklearn.model_selection import KFold, cross_val_score\n",
    "# import the classificator\n",
    "from sklearn.svm import SVC\n",
    "\n",
    "kf = KFold(n_splits = 3, shuffle = True, random_state = 42)\n",
    "gammas = [0.04, 0.05, 0.06]"
   ]
  },
  {
   "cell_type": "code",
   "execution_count": 6,
   "metadata": {},
   "outputs": [],
   "source": [
    "# find the best gamma\n",
    "best_accuracy = 0\n",
    "best_gamma = 0\n",
    "for gamma in gammas:\n",
    "  clf = SVC(C=10, kernel='rbf', gamma=gamma)\n",
    "  scores_a = cross_val_score(clf, X_train, y_train, n_jobs=-1, cv = kf, scoring = 'accuracy')\n",
    "  if (scores_a.mean() > best_accuracy):\n",
    "    best_accuracy = scores_a.mean()\n",
    "    best_gamma = gamma"
   ]
  },
  {
   "cell_type": "code",
   "execution_count": 7,
   "metadata": {},
   "outputs": [],
   "source": [
    "clf = SVC(C=10, kernel='rbf', gamma=best_gamma)\n",
    "accuracy = best_accuracy"
   ]
  },
  {
   "cell_type": "code",
   "execution_count": 8,
   "metadata": {},
   "outputs": [],
   "source": [
    "scores_p = cross_val_score(clf, X_train, y_train, cv = kf, n_jobs=-1, scoring = 'precision_weighted')\n",
    "scores_r = cross_val_score(clf, X_train, y_train, cv = kf, n_jobs=-1, scoring = 'recall_weighted')\n",
    "scores_f = cross_val_score(clf, X_train, y_train, cv = kf, n_jobs=-1, scoring = 'f1_weighted')"
   ]
  },
  {
   "cell_type": "code",
   "execution_count": 9,
   "metadata": {},
   "outputs": [
    {
     "name": "stdout",
     "output_type": "stream",
     "text": [
      "0.8959252747821127\n",
      "0.896824572735369\n",
      "0.8959252747821127\n",
      "0.8953963236161576\n",
      "0.05\n"
     ]
    }
   ],
   "source": [
    "precision = scores_p.mean()\n",
    "recall = scores_r.mean()\n",
    "f1 = scores_f.mean()\n",
    "print(accuracy)\n",
    "print(precision)\n",
    "print(recall)\n",
    "print(f1)\n",
    "print(best_gamma)"
   ]
  },
  {
   "cell_type": "code",
   "execution_count": 10,
   "metadata": {},
   "outputs": [
    {
     "data": {
      "image/png": "[encoded data removed]",
      "text/plain": [
       "<Figure size 432x288 with 1 Axes>"
      ]
     },
     "metadata": {
      "needs_background": "light"
     },
     "output_type": "display_data"
    }
   ],
   "source": [
    "clf = SVC(C=10, kernel='rbf', gamma=best_gamma)\n",
    "# Test your classifier using cross-validation over the training set\n",
    "from sklearn.model_selection import learning_curve\n",
    "\n",
    "plt.figure()\n",
    "plt.title(\"Learning curve\")\n",
    "plt.xlabel(\"Training examples\")\n",
    "plt.ylabel(\"Score\")\n",
    "plt.grid()\n",
    "\n",
    "train_sizes, train_scores, val_scores = learning_curve(clf, X_train, y_train, scoring='accuracy', cv=3)\n",
    "\n",
    "train_scores_mean = np.mean(train_scores, axis=1)\n",
    "train_scores_std = np.std(train_scores, axis=1)\n",
    "val_scores_mean = np.mean(val_scores, axis=1)\n",
    "val_scores_std = np.std(val_scores, axis=1)\n",
    "\n",
    "# Plot the mean  for the training scores\n",
    "plt.plot(train_sizes, train_scores_mean, 'o-', color=\"r\", label=\"Training score\")\n",
    "\n",
    "# Plot the  std for the training scores\n",
    "plt.fill_between(train_sizes, train_scores_mean - train_scores_std,\n",
    "                 train_scores_mean + train_scores_std, alpha=0.1, color=\"r\")\n",
    "\n",
    "# Plot the mean  for the validation scores\n",
    "plt.plot(train_sizes, val_scores_mean, 'o-', color=\"g\", label=\"Cross-validation score\")\n",
    "\n",
    "# Plot the std for the validation scores\n",
    "plt.fill_between(train_sizes, val_scores_mean - val_scores_std,\n",
    "                 val_scores_mean + val_scores_std, alpha=0.1, color=\"g\")\n",
    "plt.ylim(0.05,1.3)             # set bottom and top limits for y axis\n",
    "plt.legend()\n",
    "plt.savefig('plot.png', dpi=300)\n",
    "plt.show()"
   ]
  },
  {
   "cell_type": "markdown",
   "metadata": {},
   "source": [
    "# SVC without cross validation"
   ]
  },
  {
   "cell_type": "code",
   "execution_count": 11,
   "metadata": {},
   "outputs": [],
   "source": [
    "# Train your classifier over the full training set\n",
    "X_train, y_train = train_data, train_target\n",
    "X_test, y_test = test_data, test_target\n",
    "y_train = np.squeeze(np.asarray(y_train))"
   ]
  },
  {
   "cell_type": "code",
   "execution_count": 12,
   "metadata": {},
   "outputs": [],
   "source": [
    "# import the classificator\n",
    "from sklearn.svm import SVC\n",
    "clf = SVC(C=10, kernel='rbf', gamma=best_gamma)\n",
    "\n",
    "# Training\n",
    "clf.fit(X_train, y_train)\n",
    "\n",
    "# Prediction\n",
    "y_pred = clf.predict(X_test)"
   ]
  },
  {
   "cell_type": "code",
   "execution_count": 13,
   "metadata": {},
   "outputs": [
    {
     "data": {
      "text/plain": [
       "0.9076701821668265"
      ]
     },
     "execution_count": 13,
     "metadata": {},
     "output_type": "execute_result"
    }
   ],
   "source": [
    "from sklearn import metrics\n",
    "report = metrics.classification_report(y_test, y_pred)\n",
    "metrics.accuracy_score(y_test, y_pred)"
   ]
  },
  {
   "cell_type": "code",
   "execution_count": 14,
   "metadata": {},
   "outputs": [
    {
     "name": "stdout",
     "output_type": "stream",
     "text": [
      "              precision    recall  f1-score   support\n",
      "\n",
      "           a       0.89      0.93      0.91       851\n",
      "           b       0.96      0.96      0.96       250\n",
      "           c       0.93      0.93      0.93       409\n",
      "           d       0.87      0.93      0.90       270\n",
      "           e       0.95      0.95      0.95      1009\n",
      "           f       0.98      0.81      0.89       172\n",
      "           g       0.85      0.90      0.87       527\n",
      "           h       0.93      0.85      0.88       176\n",
      "           i       0.93      0.86      0.89       945\n",
      "           j       0.97      0.76      0.85        37\n",
      "           k       0.87      0.87      0.87       184\n",
      "           l       0.79      0.90      0.84       605\n",
      "           m       0.96      0.97      0.97       318\n",
      "           n       0.93      0.95      0.94       996\n",
      "           o       0.94      0.96      0.95       796\n",
      "           p       0.89      0.95      0.92       291\n",
      "           q       0.85      0.49      0.62        69\n",
      "           r       0.89      0.90      0.90       528\n",
      "           s       0.95      0.94      0.94       270\n",
      "           t       0.94      0.91      0.93       384\n",
      "           u       0.87      0.89      0.88       545\n",
      "           v       0.76      0.65      0.70       125\n",
      "           w       0.96      0.87      0.91       108\n",
      "           x       0.93      0.76      0.83        66\n",
      "           y       0.90      0.82      0.85       287\n",
      "           z       0.94      0.91      0.92       212\n",
      "\n",
      "    accuracy                           0.91     10430\n",
      "   macro avg       0.91      0.87      0.88     10430\n",
      "weighted avg       0.91      0.91      0.91     10430\n",
      "\n"
     ]
    }
   ],
   "source": [
    "print(report)"
   ]
  },
  {
   "cell_type": "code",
   "execution_count": 18,
   "metadata": {},
   "outputs": [],
   "source": [
    "# export predictions\n",
    "data = pd.DataFrame(y_pred)\n",
    "data.to_csv(\"data.csv\", index=False, header=False)"
   ]
  }
 ],
 "metadata": {
  "kernelspec": {
   "display_name": "Python 3",
   "language": "python",
   "name": "python3"
  },
  "language_info": {
   "codemirror_mode": {
    "name": "ipython",
    "version": 3
   },
   "file_extension": ".py",
   "mimetype": "text/x-python",
   "name": "python",
   "nbconvert_exporter": "python",
   "pygments_lexer": "ipython3",
   "version": "3.7.4"
  }
 },
 "nbformat": 4,
 "nbformat_minor": 2
}
